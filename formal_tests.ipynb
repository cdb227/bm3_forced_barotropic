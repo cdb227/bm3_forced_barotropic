{
 "cells": [
  {
   "cell_type": "markdown",
   "id": "617ea4fe",
   "metadata": {},
   "source": [
    "# Description\n",
    "### This notebook is designed to show uses of formal_tests.py, a script designed to present some robust information regarding the barotropic model. For example, understanding the required number of ensemble members to sample the forcing, and finding the zonally symmetric climatological variance caused by the forcing."
   ]
  },
  {
   "cell_type": "markdown",
   "id": "6b82c8e1",
   "metadata": {},
   "source": [
    "### 1.1 Import packages"
   ]
  },
  {
   "cell_type": "code",
   "execution_count": null,
   "id": "e8860fd7",
   "metadata": {},
   "outputs": [],
   "source": [
    "%matplotlib notebook\n",
    "from forced_barotropic_sphere.sphere import Sphere\n",
    "from forced_barotropic_sphere.solver import Solver\n",
    "from forced_barotropic_sphere.forcing import Forcing\n",
    "import forced_barotropic_sphere.formal_tests as ft\n",
    "#import bm_methods.bm_methods\n",
    "import xarray as xr\n",
    "import forced_barotropic_sphere.plotting as plotters\n",
    "import forced_barotropic_sphere.ensemble_methods as ensemble_methods\n",
    "import numpy as np\n",
    "import random\n",
    "import matplotlib.pyplot as plt    \n",
    "import matplotlib.animation as manim\n",
    "import matplotlib.ticker as mticker\n",
    "from IPython.display import display, clear_output, HTML, FileLink  # Some technical stuff, used to display animation\n",
    "#from ipywidgets import FloatProgress\n",
    "from ipykernel.pylab.backend_inline import flush_figures\n",
    "import cartopy                   # Map projection stuff\n",
    "import cartopy.crs as ccrs\n",
    "from cartopy.mpl.gridliner import LONGITUDE_FORMATTER, LATITUDE_FORMATTER\n",
    "from scipy.ndimage import gaussian_filter1d as gf1d\n",
    "\n",
    "d2s=86400"
   ]
  },
  {
   "cell_type": "markdown",
   "id": "880596b9",
   "metadata": {},
   "source": [
    "## 1.1 Check how many members are needed to sample forcing well\n",
    "### Here we run just the red noise forcing out to 10 years to represent the climatological spread. Then, an ensemble of size e, of the forcing equation is generated for a single timestep. The variance of the ensemble represents the ability for an ensemble of size e to produce the climatological spread at any given time. This is repeated for a couple hundred runs to capture the spread of the estimated variance. Results for a single coordinate are plotted below; i've picked the a location that aligns with our stirring latitude. Small ensembles initially underestimate the climatological variance, but quickly asymptote to the climatology value. As the ensemble size increases, the spread in the estimated variance decreases as well. 200 seems like a pretty good number?"
   ]
  },
  {
   "cell_type": "code",
   "execution_count": null,
   "id": "f914e9cc",
   "metadata": {},
   "outputs": [],
   "source": [
    "dt = 4000 #time between integration steps (seconds)\n",
    "nlat=64; nlon=128\n",
    "\n",
    "fcli,fens,n_ens=ft.ensemble_forcing_sampling(nlat,nlon,dt)"
   ]
  },
  {
   "cell_type": "code",
   "execution_count": null,
   "id": "c99f11ba",
   "metadata": {},
   "outputs": [],
   "source": [
    "fig,axs = plt.subplots(1,1,figsize=(3,3))\n",
    "\n",
    "clim = fcli.std(axis=0).mean(axis=-1)\n",
    "yy,xx=17,50\n",
    "fensp= fens[:,:,yy,xx]\n",
    "\n",
    "x=n_ens\n",
    "mu = np.array([ fensp[:,n].mean() for n in range(len(x)) ])\n",
    "sig =np.array([ fensp[:,n].std() for n in range(len(x)) ])\n",
    "axs.plot(x, gf1d(mu, sigma=0.01), color = 'k', label = 'ens. std($\\mathcal{F}$)')\n",
    "axs.plot(x, gf1d(mu+sig, sigma=0.01), color = 'k',linestyle='--')\n",
    "axs.plot(x, gf1d(mu-sig, sigma=0.01), color = 'k',linestyle='--')\n",
    "axs.axhline(clim[yy] ,linestyle='--',color='r', label = 'clim. std($\\mathcal{F}$)')\n",
    "\n",
    "axs.set_xlabel('ensemble size')\n",
    "axs.set_ylabel('Forcing Std.')\n",
    "\n",
    "axs.set_title('coord: ({:.0f}N,{:.0f}E)'.format(np.linspace(90,-90,nlat)[yy],(360./nlon*np.arange(nlon))[xx]))\n",
    "axs.set_xlim(0.,max(n_ens))\n",
    "# ss= np.empty((len(x),fens.shape[2]))\n",
    "# for i,n in enumerate(x):\n",
    "#     ss[i]=fens[:n,:-1,:,:].std(axis=0).mean(axis=(0,-1))\n",
    "    \n",
    "# cf= axs[1].pcolormesh(range(nlat),x, abs(clim-ss)/clim*100., vmax=10)\n",
    "\n",
    "# plt.colorbar(cf,ax=axs[1])\n",
    "plt.legend()\n",
    "plt.tight_layout()\n",
    "plt.show()"
   ]
  },
  {
   "cell_type": "markdown",
   "id": "ff75ed7d",
   "metadata": {},
   "source": [
    "## 1.2 Derive Climatological Spread\n",
    "### I found that running one very long climatology produced relatively large zonal variation in mean variance. It was slightly more efficient to run an ensemble (100) of 5 year simulations and average the runs to find the mean variance (I think due to the relatively long memory of the eddies, it takes a while to kill off preferential spatial features?). This also gives us a way to estimate the variance of the mean variance, which can help with formally justifying when an ensemble approaches the climatology. "
   ]
  },
  {
   "cell_type": "code",
   "execution_count": null,
   "id": "e5b908ed",
   "metadata": {},
   "outputs": [],
   "source": [
    "dt = 4000 #time between integration steps (seconds)\n",
    "nlat=64; nlon=128\n",
    "\n",
    "#clim= ft.climatological_spread(nlat,nlon,dt,A=5e-12,produce_plots=False)\n",
    "clim = xr.open_dataset('../climatology.nc')\n",
    "\n",
    "# Start with a square Figure.\n",
    "fig = plt.figure(figsize=(4, 4))\n",
    "gs = fig.add_gridspec(2, 2,  width_ratios=(4, 1), height_ratios=(1,15),\n",
    "                      left=0.1, right=0.9, bottom=0.1, top=0.9,\n",
    "                      wspace=0.2, hspace=0.15)\n",
    "\n",
    "ax = fig.add_subplot(gs[1, 0])\n",
    "cbarax = fig.add_subplot(gs[0,0])\n",
    "ax2 = fig.add_subplot(gs[1, 1])\n",
    "\n",
    "clev=np.arange(-0.18,0.19,0.04)\n",
    "cf=ax.contourf(clim.x.values,clim.y.values,clim.theta.mean('runs')-clim.theta.mean(['x','runs']),\n",
    "               cmap='bwr',levels=clev, extend='both')\n",
    "\n",
    "\n",
    "\n",
    "cb=plt.colorbar(cf, cax=cbarax,orientation='horizontal', spacing='uniform',\n",
    "                label='diff from zonal mean')\n",
    "cb.set_ticks(clev[::3])\n",
    "cb.ax.xaxis.set_ticks_position('top')\n",
    "\n",
    "ax2.errorbar(clim.theta.mean(['x','runs']), clim.y.values, xerr=2*clim.theta.mean('x').std('runs'),\n",
    "             color='k', ecolor='r')\n",
    "\n",
    "\n",
    "ax.set_ylabel('lat')\n",
    "ax.set_xlabel('lon')\n",
    "ax.set_yticks(np.arange(0,91,30))\n",
    "ax.set_ylim(0,90)\n",
    "\n",
    "ax2.set_xlabel('std(theta)')\n",
    "ax2.set_yticks([])\n",
    "ax2.set_ylim(0,90)\n",
    "\n",
    "plt.show()"
   ]
  },
  {
   "cell_type": "code",
   "execution_count": null,
   "id": "7f6aa297",
   "metadata": {},
   "outputs": [],
   "source": [
    "clim.to_netcdf('../climatology.nc')"
   ]
  },
  {
   "cell_type": "markdown",
   "id": "504206a9",
   "metadata": {},
   "source": [
    "## 1.3 Check to see how long it takes for ensemble to approach climatology\n",
    "### Using our derived climatology from 1.2, and an ensemble of size 200, lets run a 6-week long simulation and see how our ensemble behaves."
   ]
  },
  {
   "cell_type": "code",
   "execution_count": null,
   "id": "b234f926",
   "metadata": {},
   "outputs": [],
   "source": [
    "num_members= 200 #num of members in the ensemble\n",
    "dt = 4000 #time between integration steps (seconds)\n",
    "T= d2s*6*7 #total integration time\n",
    "nlat=64; nlon=128\n",
    "\n",
    "ofreq=3\n",
    "\n",
    "thetap = np.zeros((nlat,nlon))\n",
    "vortp = np.zeros((nlat,nlon))\n",
    "\n",
    "ics = np.array([vortp,thetap])\n",
    "\n",
    "\n",
    "ensemble = ensemble_methods.integrate_ensemble(nlat,nlon,dt=dt, T=T, ofreq=ofreq, ics=ics,\n",
    "                                               forcing_type='red_eddy', n_ens=num_members, temp_linear=True,\n",
    "                                               vort_linear=True, vortpert=0.)\n",
    "\n",
    "clims= xr.open_dataset('../climatology.nc')#.mean('x')\n"
   ]
  },
  {
   "cell_type": "code",
   "execution_count": null,
   "id": "2885c305",
   "metadata": {},
   "outputs": [],
   "source": [
    "tidx=ensemble.time.size-1\n",
    "\n",
    "s2d = 1/60./60./24.\n",
    "fig = plt.figure(figsize=(9,8))\n",
    "proj=ccrs.NorthPolarStereo()\n",
    "xy=(105,40)\n",
    "\n",
    "levels = [np.linspace(0,8,5), np.linspace(0,10,5)*0.1]\n",
    "\n",
    "VOI = ['theta','vortp'] #variables of interest\n",
    "\n",
    "for i,var in enumerate(VOI):\n",
    "    ax1 = plt.subplot(3,len(VOI),i+1, projection = proj) #axes for map\n",
    "    ax2 = plt.subplot(3,len(VOI),i+3)\n",
    "    ax3 = plt.subplot(3,len(VOI),i+5) #axes for discrete point\n",
    "    \n",
    "    \n",
    "    #plot 1\n",
    "    if i==0:\n",
    "        plotters.plot_theta_ensspread(ensemble.isel(time=tidx), ax=ax1, levels=levels[i])\n",
    "    else:\n",
    "        plotters.plot_zeta_ensspread(ensemble.isel(time=tidx), ax=ax1, levels=levels[i])\n",
    "    \n",
    "    ax1.scatter(x=xy[0], y=xy[1], color='g', transform = ccrs.PlateCarree())\n",
    "    \n",
    "    \n",
    "    ens_point = ensemble[var].sel(x=xy[0], y=xy[1], method='nearest')\n",
    "    \n",
    "    #plot 2\n",
    "    #ax2.set_title()\n",
    "    ax2.set_title('({:.0f}N,{:.0f}E)'.format(float(ens_point.y),float(ens_point.x)),loc='left')\n",
    "    ax2.plot(ensemble.time*s2d, ens_point.T, color='grey', alpha=0.1)\n",
    "    ax2.plot(ensemble.time*s2d, ens_point.mean('ens_mem'), color='k')\n",
    "    ax2.plot(ensemble.time*s2d, ens_point.mean('ens_mem') +ens_point.std('ens_mem'),\n",
    "             color='tab:blue',linestyle='--')\n",
    "    ax2.plot(ensemble.time*s2d, ens_point.mean('ens_mem') -ens_point.std('ens_mem'),\n",
    "             color='tab:blue',linestyle='--', label = '1 std')\n",
    "    \n",
    "    #plot 3\n",
    "    ax3.plot(ensemble.time*s2d,ensemble[var].sel(y=xy[1], method='nearest').std('ens_mem'), alpha=0.1)\n",
    "    ax3.plot(ensemble.time*s2d, ens_point.std('ens_mem'),label='({:.0f}N,{:.0f}E)'.format(float(ens_point.y),float(ens_point.x)), color='g',linewidth=2)\n",
    "    \n",
    "    ax3.axhline(clims[var].sel(y=xy[1], method='nearest').mean(['x','runs']).values + 2*clims[var].sel(y=xy[1], method='nearest').std(['x','runs']).values,\n",
    "                0,1, color = 'k', linestyle = '--', \n",
    "               label='climatology')\n",
    "    ax3.axhline(clims[var].sel(y=xy[1], method='nearest').mean(['x','runs']).values - 2*clims[var].sel(y=xy[1], method='nearest').std(['x','runs']).values,\n",
    "                0,1, color = 'k', linestyle = '--')\n",
    "\n",
    "\n",
    "    ax2.yaxis.tick_right()\n",
    "    ax3.set_xlabel('time (days)')\n",
    "    ax3.set_ylabel(\"std({})\".format(var))\n",
    "    ax2.set_ylabel(var)\n",
    "    ax2.set_xlim(0.,T*s2d)\n",
    "    ax3.set_ylim(0.,clims[var].sel(y=xy[1], method='nearest').max(['x','runs']).values)\n",
    "    ax3.set_xlim(0.,T*s2d)\n",
    "    ax3.legend()\n",
    "    ax2.legend()\n",
    "fig.savefig('./images/ensemble_sim.png',dpi=300, bbox_inches='tight')    \n",
    "plt.show()\n"
   ]
  },
  {
   "cell_type": "markdown",
   "id": "e7f3f9d7",
   "metadata": {},
   "source": [
    "### Above i've plotted the ensemble evolution for a single coordinate (second row). Spread is pretty large, but not too far off reality? Again, this is where we'd expect maximum stirring so having a std of ~8-9 K after 3 weeks seems reasonable if these represent atmospheric values.  The third row shows how every x-point at this latitude evolves in its ensemble std. +- 2 stds from the climatological mean are plotted with dashed lines. We see after about 3 weeks, most of the lons are within the bounds. Not exactly sure how to address those cases where some locations re-exit the climatological spread (see, for example, ~day 38 in vortp). Just need to integrate for longer?"
   ]
  },
  {
   "cell_type": "code",
   "execution_count": null,
   "id": "3f048016",
   "metadata": {},
   "outputs": [],
   "source": []
  }
 ],
 "metadata": {
  "kernelspec": {
   "display_name": "Python 3 (ipykernel)",
   "language": "python",
   "name": "python3"
  },
  "language_info": {
   "codemirror_mode": {
    "name": "ipython",
    "version": 3
   },
   "file_extension": ".py",
   "mimetype": "text/x-python",
   "name": "python",
   "nbconvert_exporter": "python",
   "pygments_lexer": "ipython3",
   "version": "3.10.13"
  }
 },
 "nbformat": 4,
 "nbformat_minor": 5
}
