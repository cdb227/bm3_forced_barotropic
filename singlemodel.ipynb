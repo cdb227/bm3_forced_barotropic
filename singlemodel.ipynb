{
 "cells": [
  {
   "cell_type": "markdown",
   "id": "a41a5ffc",
   "metadata": {},
   "source": [
    "# Single Model Uses\n",
    "\n",
    "This notebook shows some uses of the forced baroptric model with singel model runs. See model_ensemble for uses as it pertains to ensembles of runs"
   ]
  },
  {
   "cell_type": "code",
   "execution_count": null,
   "id": "e6335439",
   "metadata": {},
   "outputs": [],
   "source": [
    "# This directive tells the notebook to add interactive plots in the notebook\n",
    "#%matplotlib widget\n",
    "\n",
    "from forced_barotropic_sphere.sphere import Sphere #bm3_barotropic_model packages\n",
    "from forced_barotropic_sphere.solver import Solver\n",
    "from forced_barotropic_sphere.forcing import Forcing\n",
    "import forced_barotropic_sphere.plotting as plotters\n",
    "import forced_barotropic_sphere.ensemble_methods as ensemble_methods\n",
    "import matplotlib.path as mpath\n",
    "import forced_barotropic_sphere.parcel_tracking as tracking\n",
    "\n",
    "import time\n",
    "import numpy as np\n",
    "import random\n",
    "import xarray as xr\n",
    "\n",
    "import cartopy as crt             # Map projection stuff\n",
    "import cartopy.crs as ccrs\n",
    "from cartopy.mpl.gridliner import LONGITUDE_FORMATTER, LATITUDE_FORMATTER\n",
    "\n",
    "import matplotlib as mpl          # Plotting routines\n",
    "import matplotlib.pyplot as plt    \n",
    "import matplotlib.animation as manim\n",
    "import matplotlib.ticker as mticker\n",
    "from mpl_toolkits.axes_grid1 import make_axes_locatable\n",
    "\n",
    "from tqdm import tqdm\n",
    "\n",
    "from IPython.display import display, clear_output, HTML, FileLink  # Some technical stuff, used to display animation"
   ]
  },
  {
   "cell_type": "code",
   "execution_count": null,
   "id": "6eb82ba9",
   "metadata": {},
   "outputs": [],
   "source": [
    "##physical constants\n",
    "s2d = 1/3600/24    # seconds to days\n",
    "s2h = 1/3600       # seconds to hours\n",
    "a = 6371e3         # Radius of the earth in m\n",
    "g00 = 9.81         # Acceleration due to gravity near the surface of the earth in m/s^2\n",
    "R = 287.           # Dry gas constant in J/K/kg\n",
    "d2r = np.pi / 180. # Factor to convert degrees to radians\n",
    "r2d = 180. / np.pi # Factor to convert radians to degrees\n"
   ]
  },
  {
   "cell_type": "markdown",
   "id": "2ecbe199",
   "metadata": {},
   "source": [
    "We may simply integrate a single model and plot the resulting output at the final integration step"
   ]
  },
  {
   "cell_type": "code",
   "execution_count": null,
   "id": "43223555-34f4-41d1-9042-93390e0f4e85",
   "metadata": {},
   "outputs": [],
   "source": [
    "dt = 1800 #time between integration steps (seconds)\n",
    "Nt = 2000 #number of integration steps\n",
    "T= Nt*dt #total integration time\n",
    "print('integrating for {:.1f} days with a dt of {:.2f} hours'.format(T*s2d,dt*s2h))\n",
    "\n",
    "ofreq = 6 #frequency of integration output in resulting ds\n",
    "print('output freq of {:.2f} hours'.format(dt*s2h*ofreq))\n",
    "\n",
    "M = 63\n",
    "st = Sphere(M, base_state='held85')\n",
    "\n",
    "F = Forcing(st,dt,T)\n",
    "#Si = F.generate_rededdy_start() #initial forcing\n",
    "#forcing_tseries = F.generate_rededdy_tseries(A=5e-12,Si=Si) #evolve forcing\n",
    "forcing_tseries = F.generate_zeroforcing_tseries()\n",
    "\n",
    "k0=3 #if we want to start with some structure in the vorticity here's an option\n",
    "vortp = 1e-5 * np.exp( -0.5 * (st.glats - 45.)**2 / 10**2 ) * np.cos(k0 * st.rlons)\n",
    "\n",
    "Pvortp = 1e-5 * np.exp( -0.5 * (st.glats - 45.)**2 / 10**2 -0.5 * (st.glons - 60.)**2 / 10**2 )\n",
    "\n",
    "#vortp = np.zeros(thetap.shape)\n",
    "thetap = np.zeros(vortp.shape) #we'll start with t0=background state\n",
    "st.set_ics([vortp,thetap])\n",
    "\n",
    "# Turn off frictional dissipation, thermal relaxation, add viscosity values from Held 1985\n",
    "params = dict(rs = 0., tau = 0., nu = 1e4, diffusion_order=1, robert_filter=0.01)\n",
    "\n",
    "# Turn off frictional dissipation, add viscosity values from Held and Phillips 1987\n",
    "#params = dict(rs = 0., nu = 1e15, diffusion_order=2)\n",
    "\n",
    "#choose whether we integrate with a linear temp/vorticity field. temp_linear=False uses nonlinear advection\n",
    "S = Solver(st, forcing=F, ofreq=ofreq, **params)\n",
    "\n",
    "sln = S.integrate_dynamics(temp_linear=True, vort_linear=False)"
   ]
  },
  {
   "cell_type": "code",
   "execution_count": null,
   "id": "50d63e04-1396-4e8d-8e26-ccdedddef740",
   "metadata": {},
   "outputs": [],
   "source": [
    "tidx=200\n",
    "#tidx=int(Nt/ofreq)-1\n",
    "f,ax = plotters.plot_overview(sln.isel(time=tidx), levels=[np.linspace(-1.5,1.5,11),np.arange(255,300,5)], var=['vort','theta'])\n",
    "#f.savefig('./images/L18_singlerun.png',dpi=300, bbox_inches='tight')"
   ]
  },
  {
   "cell_type": "code",
   "execution_count": null,
   "id": "900bcf8a-82e4-4b01-a083-20c17fbb0bb6",
   "metadata": {},
   "outputs": [],
   "source": [
    "from importlib import reload\n",
    "reload(plotters)\n",
    "plotters.plot_energy(sln)\n"
   ]
  },
  {
   "cell_type": "code",
   "execution_count": null,
   "id": "e432a00a",
   "metadata": {},
   "outputs": [],
   "source": [
    "import warnings\n",
    "warnings.simplefilter(action='ignore', category=FutureWarning)"
   ]
  },
  {
   "cell_type": "code",
   "execution_count": null,
   "id": "f3887694",
   "metadata": {},
   "outputs": [],
   "source": [
    "#careful..this takes quite a while to run. ~4s/frame\n",
    "starttime = time.time()\n",
    "plotters.overview_animation(sln, times = [0,T], xs=None, filename = './images/overview_nonlinear_dt3000.gif')\n",
    "print('time taken to animate: ', time.time()-starttime)"
   ]
  },
  {
   "cell_type": "markdown",
   "id": "88147e2c",
   "metadata": {},
   "source": [
    "### Tracking parcels\n",
    "We can use a parcel tracking routine to help show spread growth"
   ]
  },
  {
   "cell_type": "code",
   "execution_count": null,
   "id": "ea4c2475",
   "metadata": {},
   "outputs": [],
   "source": [
    "dsr = sln.rename(dict(x='lon',y='lat'))\n",
    "# Reassign longitude coordinates between -180 and 180E\n",
    "dsr = dsr.assign_coords(lon=(((dsr.lon + 180) % 360) - 180))\n",
    "dsr = dsr.sortby('lon')\n",
    "\n",
    "x0 = [(-100., l) for l in np.linspace(45, 65, 10)] #initial position of parcel\n",
    "t0=0. #t0=(0,T)\n",
    "ts, xs = tracking.calculate_trajectories(dsr, x0, t0 = sln.time.isel(time=0).data)\n"
   ]
  },
  {
   "cell_type": "code",
   "execution_count": null,
   "id": "5ea43ccb",
   "metadata": {},
   "outputs": [],
   "source": [
    "#plotters.overview_animation(sln, times = [0,T],filename = 'trajectory.gif', xs=xs,ts=ts)"
   ]
  },
  {
   "cell_type": "code",
   "execution_count": null,
   "id": "303c06eb",
   "metadata": {},
   "outputs": [],
   "source": []
  },
  {
   "cell_type": "code",
   "execution_count": null,
   "id": "8ccf65ad",
   "metadata": {},
   "outputs": [],
   "source": []
  }
 ],
 "metadata": {
  "kernelspec": {
   "display_name": "Python 3 (ipykernel)",
   "language": "python",
   "name": "python3"
  },
  "language_info": {
   "codemirror_mode": {
    "name": "ipython",
    "version": 3
   },
   "file_extension": ".py",
   "mimetype": "text/x-python",
   "name": "python",
   "nbconvert_exporter": "python",
   "pygments_lexer": "ipython3",
   "version": "3.10.13"
  }
 },
 "nbformat": 4,
 "nbformat_minor": 5
}
