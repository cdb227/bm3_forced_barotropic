{
 "cells": [
  {
   "cell_type": "markdown",
   "id": "7d993cf4",
   "metadata": {},
   "source": [
    "## Synthetic Ensemble Generation\n",
    "\n",
    "This notebook is used to test some capabilities of bm_methods with synthetic ensembles. This will prove useful for setting 'bimodal criteria' and understanding the expected TP/FP rates (as a function of ensemble size) with known distributions"
   ]
  },
  {
   "cell_type": "code",
   "execution_count": 92,
   "id": "16271b60",
   "metadata": {},
   "outputs": [],
   "source": [
    "# import packages\n",
    "\n",
    "import numpy as np\n",
    "import scipy.stats as stats\n",
    "import matplotlib.pyplot as plt\n",
    "import random\n",
    "from tqdm import tqdm\n",
    "import seaborn as sns\n",
    "import cython_routines.bm_methods as bm\n",
    "from scipy import integrate, stats, optimize\n",
    "from sklearn.mixture import GaussianMixture\n",
    "\n",
    "\n",
    "def built_bim(X, return_D=False):\n",
    "    model = GaussianMixture(2).fit(X.reshape(-1,1))\n",
    "    m1,m2 = model.means_.flatten()\n",
    "    s1,s2 = (model.covariances_**0.5).flatten()\n",
    "#     #ashmansD\n",
    "#     if return_D:\n",
    "#         m1,m2 = model.means_.flatten()\n",
    "#         s1,s2 = (model.covariances_**0.5).flatten()\n",
    "#         D= 2**0.5 * np.abs(m1-m2)/(s1**2+s2**2)**0.5\n",
    "#         print(s1,s2)\n",
    "#         #D = (m2-m1)/(2*(s1+s2))\n",
    "#         #{\\displaystyle |\\mu _{1}-\\mu _{2}|\\leq 2\\min(\\sigma _{1},\\sigma _{2}).}\n",
    "        \n",
    "#         return model,D\n",
    "    \n",
    "    return m1,s1,m2,s2,model.weights_, 2**0.5 * np.abs(m1-m2)/(s1**2+s2**2)**0.5>2\n",
    "\n",
    "def scotts_factor(ens_size):\n",
    "    \"\"\"\n",
    "    by default kde calculates bw using scotts factor:\n",
    "    n** (-1/(d+4))\n",
    "    when n = length of data and d is num of dimension (=1 for us)\n",
    "    \"\"\"\n",
    "    return ens_size**(-1./(1+4))\n",
    "    \n",
    "    "
   ]
  },
  {
   "cell_type": "markdown",
   "id": "7edb9f51",
   "metadata": {},
   "source": [
    "# explore member FP(member requirement,delta) phase space"
   ]
  },
  {
   "cell_type": "code",
   "execution_count": 95,
   "id": "dd2a78db",
   "metadata": {},
   "outputs": [
    {
     "name": "stderr",
     "output_type": "stream",
     "text": [
      "\r",
      "  0%|                                                    | 0/42 [00:00<?, ?it/s]"
     ]
    },
    {
     "name": "stdout",
     "output_type": "stream",
     "text": [
      "(0.9479893689495856, 0.951836314483841, -0.9592273215255495, 0.9480109141411746, array([0.50341239, 0.49658761]), True)\n"
     ]
    },
    {
     "name": "stderr",
     "output_type": "stream",
     "text": [
      "\r",
      "  2%|█                                           | 1/42 [00:03<02:15,  3.30s/it]"
     ]
    },
    {
     "name": "stdout",
     "output_type": "stream",
     "text": [
      "(0.986633902053743, 0.9594501670823834, -1.0001564292355873, 0.9549016637064046, array([0.50303816, 0.49696184]), True)\n"
     ]
    },
    {
     "name": "stderr",
     "output_type": "stream",
     "text": [
      "\r",
      "  5%|██                                          | 2/42 [00:06<02:08,  3.22s/it]"
     ]
    },
    {
     "name": "stdout",
     "output_type": "stream",
     "text": [
      "(-1.0285764173516148, 0.9673180421868407, 1.036606786917585, 0.9640705343661178, array([0.50218294, 0.49781706]), True)\n"
     ]
    },
    {
     "name": "stderr",
     "output_type": "stream",
     "text": [
      "\r",
      "  7%|███▏                                        | 3/42 [00:09<02:05,  3.21s/it]"
     ]
    },
    {
     "name": "stdout",
     "output_type": "stream",
     "text": [
      "(-1.0705192653985787, 0.975830454929115, 1.0781747216140272, 0.9713980516489242, array([0.50167603, 0.49832397]), True)\n"
     ]
    },
    {
     "name": "stderr",
     "output_type": "stream",
     "text": [
      " 10%|████▏                                       | 4/42 [00:13<02:07,  3.36s/it]\n"
     ]
    },
    {
     "ename": "KeyboardInterrupt",
     "evalue": "",
     "output_type": "error",
     "traceback": [
      "\u001b[0;31m---------------------------------------------------------------------------\u001b[0m",
      "\u001b[0;31mKeyboardInterrupt\u001b[0m                         Traceback (most recent call last)",
      "Input \u001b[0;32mIn [95]\u001b[0m, in \u001b[0;36m<module>\u001b[0;34m\u001b[0m\n\u001b[1;32m     16\u001b[0m ens \u001b[38;5;241m=\u001b[39m np\u001b[38;5;241m.\u001b[39mrandom\u001b[38;5;241m.\u001b[39mchoice(true_dist, size \u001b[38;5;241m=\u001b[39m (n, ens_size), replace\u001b[38;5;241m=\u001b[39m\u001b[38;5;28;01mTrue\u001b[39;00m) \u001b[38;5;66;03m#sample ens from true dist\u001b[39;00m\n\u001b[1;32m     17\u001b[0m bw \u001b[38;5;241m=\u001b[39m  scotts_factor(ens_size)\u001b[38;5;241m*\u001b[39mnp\u001b[38;5;241m.\u001b[39mstd(ens,axis\u001b[38;5;241m=\u001b[39m\u001b[38;5;241m-\u001b[39m\u001b[38;5;241m1\u001b[39m) \u001b[38;5;66;03m#scotts rule rule for bw\u001b[39;00m\n\u001b[0;32m---> 19\u001b[0m GMM \u001b[38;5;241m=\u001b[39m \u001b[43mbuilt_bim\u001b[49m\u001b[43m(\u001b[49m\u001b[43mtrue_dist\u001b[49m\u001b[43m)\u001b[49m\n\u001b[1;32m     20\u001b[0m \u001b[38;5;28mprint\u001b[39m(GMM)\n\u001b[1;32m     21\u001b[0m \u001b[38;5;28;01mfor\u001b[39;00m qq,e \u001b[38;5;129;01min\u001b[39;00m \u001b[38;5;28menumerate\u001b[39m(ens):\n",
      "Input \u001b[0;32mIn [92]\u001b[0m, in \u001b[0;36mbuilt_bim\u001b[0;34m(X, return_D)\u001b[0m\n\u001b[1;32m     14\u001b[0m \u001b[38;5;28;01mdef\u001b[39;00m \u001b[38;5;21mbuilt_bim\u001b[39m(X, return_D\u001b[38;5;241m=\u001b[39m\u001b[38;5;28;01mFalse\u001b[39;00m):\n\u001b[0;32m---> 15\u001b[0m     model \u001b[38;5;241m=\u001b[39m \u001b[43mGaussianMixture\u001b[49m\u001b[43m(\u001b[49m\u001b[38;5;241;43m2\u001b[39;49m\u001b[43m)\u001b[49m\u001b[38;5;241;43m.\u001b[39;49m\u001b[43mfit\u001b[49m\u001b[43m(\u001b[49m\u001b[43mX\u001b[49m\u001b[38;5;241;43m.\u001b[39;49m\u001b[43mreshape\u001b[49m\u001b[43m(\u001b[49m\u001b[38;5;241;43m-\u001b[39;49m\u001b[38;5;241;43m1\u001b[39;49m\u001b[43m,\u001b[49m\u001b[38;5;241;43m1\u001b[39;49m\u001b[43m)\u001b[49m\u001b[43m)\u001b[49m\n\u001b[1;32m     16\u001b[0m     m1,m2 \u001b[38;5;241m=\u001b[39m model\u001b[38;5;241m.\u001b[39mmeans_\u001b[38;5;241m.\u001b[39mflatten()\n\u001b[1;32m     17\u001b[0m     s1,s2 \u001b[38;5;241m=\u001b[39m (model\u001b[38;5;241m.\u001b[39mcovariances_\u001b[38;5;241m*\u001b[39m\u001b[38;5;241m*\u001b[39m\u001b[38;5;241m0.5\u001b[39m)\u001b[38;5;241m.\u001b[39mflatten()\n",
      "File \u001b[0;32m~/miniconda3/envs/jupyter/lib/python3.10/site-packages/sklearn/mixture/_base.py:198\u001b[0m, in \u001b[0;36mBaseMixture.fit\u001b[0;34m(self, X, y)\u001b[0m\n\u001b[1;32m    172\u001b[0m \u001b[38;5;28;01mdef\u001b[39;00m \u001b[38;5;21mfit\u001b[39m(\u001b[38;5;28mself\u001b[39m, X, y\u001b[38;5;241m=\u001b[39m\u001b[38;5;28;01mNone\u001b[39;00m):\n\u001b[1;32m    173\u001b[0m     \u001b[38;5;124;03m\"\"\"Estimate model parameters with the EM algorithm.\u001b[39;00m\n\u001b[1;32m    174\u001b[0m \n\u001b[1;32m    175\u001b[0m \u001b[38;5;124;03m    The method fits the model ``n_init`` times and sets the parameters with\u001b[39;00m\n\u001b[0;32m   (...)\u001b[0m\n\u001b[1;32m    196\u001b[0m \u001b[38;5;124;03m        The fitted mixture.\u001b[39;00m\n\u001b[1;32m    197\u001b[0m \u001b[38;5;124;03m    \"\"\"\u001b[39;00m\n\u001b[0;32m--> 198\u001b[0m     \u001b[38;5;28;43mself\u001b[39;49m\u001b[38;5;241;43m.\u001b[39;49m\u001b[43mfit_predict\u001b[49m\u001b[43m(\u001b[49m\u001b[43mX\u001b[49m\u001b[43m,\u001b[49m\u001b[43m \u001b[49m\u001b[43my\u001b[49m\u001b[43m)\u001b[49m\n\u001b[1;32m    199\u001b[0m     \u001b[38;5;28;01mreturn\u001b[39;00m \u001b[38;5;28mself\u001b[39m\n",
      "File \u001b[0;32m~/miniconda3/envs/jupyter/lib/python3.10/site-packages/sklearn/mixture/_base.py:258\u001b[0m, in \u001b[0;36mBaseMixture.fit_predict\u001b[0;34m(self, X, y)\u001b[0m\n\u001b[1;32m    255\u001b[0m \u001b[38;5;28;01mfor\u001b[39;00m n_iter \u001b[38;5;129;01min\u001b[39;00m \u001b[38;5;28mrange\u001b[39m(\u001b[38;5;241m1\u001b[39m, \u001b[38;5;28mself\u001b[39m\u001b[38;5;241m.\u001b[39mmax_iter \u001b[38;5;241m+\u001b[39m \u001b[38;5;241m1\u001b[39m):\n\u001b[1;32m    256\u001b[0m     prev_lower_bound \u001b[38;5;241m=\u001b[39m lower_bound\n\u001b[0;32m--> 258\u001b[0m     log_prob_norm, log_resp \u001b[38;5;241m=\u001b[39m \u001b[38;5;28;43mself\u001b[39;49m\u001b[38;5;241;43m.\u001b[39;49m\u001b[43m_e_step\u001b[49m\u001b[43m(\u001b[49m\u001b[43mX\u001b[49m\u001b[43m)\u001b[49m\n\u001b[1;32m    259\u001b[0m     \u001b[38;5;28mself\u001b[39m\u001b[38;5;241m.\u001b[39m_m_step(X, log_resp)\n\u001b[1;32m    260\u001b[0m     lower_bound \u001b[38;5;241m=\u001b[39m \u001b[38;5;28mself\u001b[39m\u001b[38;5;241m.\u001b[39m_compute_lower_bound(log_resp, log_prob_norm)\n",
      "File \u001b[0;32m~/miniconda3/envs/jupyter/lib/python3.10/site-packages/sklearn/mixture/_base.py:312\u001b[0m, in \u001b[0;36mBaseMixture._e_step\u001b[0;34m(self, X)\u001b[0m\n\u001b[1;32m    296\u001b[0m \u001b[38;5;28;01mdef\u001b[39;00m \u001b[38;5;21m_e_step\u001b[39m(\u001b[38;5;28mself\u001b[39m, X):\n\u001b[1;32m    297\u001b[0m     \u001b[38;5;124;03m\"\"\"E step.\u001b[39;00m\n\u001b[1;32m    298\u001b[0m \n\u001b[1;32m    299\u001b[0m \u001b[38;5;124;03m    Parameters\u001b[39;00m\n\u001b[0;32m   (...)\u001b[0m\n\u001b[1;32m    310\u001b[0m \u001b[38;5;124;03m        the point of each sample in X.\u001b[39;00m\n\u001b[1;32m    311\u001b[0m \u001b[38;5;124;03m    \"\"\"\u001b[39;00m\n\u001b[0;32m--> 312\u001b[0m     log_prob_norm, log_resp \u001b[38;5;241m=\u001b[39m \u001b[38;5;28;43mself\u001b[39;49m\u001b[38;5;241;43m.\u001b[39;49m\u001b[43m_estimate_log_prob_resp\u001b[49m\u001b[43m(\u001b[49m\u001b[43mX\u001b[49m\u001b[43m)\u001b[49m\n\u001b[1;32m    313\u001b[0m     \u001b[38;5;28;01mreturn\u001b[39;00m np\u001b[38;5;241m.\u001b[39mmean(log_prob_norm), log_resp\n",
      "File \u001b[0;32m~/miniconda3/envs/jupyter/lib/python3.10/site-packages/sklearn/mixture/_base.py:532\u001b[0m, in \u001b[0;36mBaseMixture._estimate_log_prob_resp\u001b[0;34m(self, X)\u001b[0m\n\u001b[1;32m    530\u001b[0m weighted_log_prob \u001b[38;5;241m=\u001b[39m \u001b[38;5;28mself\u001b[39m\u001b[38;5;241m.\u001b[39m_estimate_weighted_log_prob(X)\n\u001b[1;32m    531\u001b[0m log_prob_norm \u001b[38;5;241m=\u001b[39m logsumexp(weighted_log_prob, axis\u001b[38;5;241m=\u001b[39m\u001b[38;5;241m1\u001b[39m)\n\u001b[0;32m--> 532\u001b[0m \u001b[38;5;28;01mwith\u001b[39;00m np\u001b[38;5;241m.\u001b[39merrstate(under\u001b[38;5;241m=\u001b[39m\u001b[38;5;124m\"\u001b[39m\u001b[38;5;124mignore\u001b[39m\u001b[38;5;124m\"\u001b[39m):\n\u001b[1;32m    533\u001b[0m     \u001b[38;5;66;03m# ignore underflow\u001b[39;00m\n\u001b[1;32m    534\u001b[0m     log_resp \u001b[38;5;241m=\u001b[39m weighted_log_prob \u001b[38;5;241m-\u001b[39m log_prob_norm[:, np\u001b[38;5;241m.\u001b[39mnewaxis]\n\u001b[1;32m    535\u001b[0m \u001b[38;5;28;01mreturn\u001b[39;00m log_prob_norm, log_resp\n",
      "File \u001b[0;32m~/miniconda3/envs/jupyter/lib/python3.10/site-packages/numpy/core/_ufunc_config.py:435\u001b[0m, in \u001b[0;36merrstate.__exit__\u001b[0;34m(self, *exc_info)\u001b[0m\n\u001b[1;32m    432\u001b[0m     \u001b[38;5;28;01mif\u001b[39;00m \u001b[38;5;28mself\u001b[39m\u001b[38;5;241m.\u001b[39mcall \u001b[38;5;129;01mis\u001b[39;00m \u001b[38;5;129;01mnot\u001b[39;00m _Unspecified:\n\u001b[1;32m    433\u001b[0m         \u001b[38;5;28mself\u001b[39m\u001b[38;5;241m.\u001b[39moldcall \u001b[38;5;241m=\u001b[39m seterrcall(\u001b[38;5;28mself\u001b[39m\u001b[38;5;241m.\u001b[39mcall)\n\u001b[0;32m--> 435\u001b[0m \u001b[38;5;28;01mdef\u001b[39;00m \u001b[38;5;21m__exit__\u001b[39m(\u001b[38;5;28mself\u001b[39m, \u001b[38;5;241m*\u001b[39mexc_info):\n\u001b[1;32m    436\u001b[0m     seterr(\u001b[38;5;241m*\u001b[39m\u001b[38;5;241m*\u001b[39m\u001b[38;5;28mself\u001b[39m\u001b[38;5;241m.\u001b[39moldstate)\n\u001b[1;32m    437\u001b[0m     \u001b[38;5;28;01mif\u001b[39;00m \u001b[38;5;28mself\u001b[39m\u001b[38;5;241m.\u001b[39mcall \u001b[38;5;129;01mis\u001b[39;00m \u001b[38;5;129;01mnot\u001b[39;00m _Unspecified:\n",
      "\u001b[0;31mKeyboardInterrupt\u001b[0m: "
     ]
    }
   ],
   "source": [
    "n = 5000 #number of ensembles to be generated\n",
    "ens_size = 50 #ensemble size\n",
    "\n",
    "deltas = np.arange(1.8, 6, 0.1) #separation of two modes\n",
    "mem_conditions = range(1,ens_size//2+1,2) #minimum number of members required\n",
    "bms = np.zeros((len(deltas),len(mem_conditions), n))\n",
    "\n",
    "for jj,d in enumerate(tqdm(deltas)):\n",
    "    w=0.5\n",
    "    m1=-d/2.; s1=1\n",
    "    m2= d/2.; s2=1 \n",
    "    #generate the 'true dist'\n",
    "    true_dist = np.sort(np.append(np.random.normal(m1,s1,int(   w *1e6)),\n",
    "                                  np.random.normal(m2,s2,int((1-w)*1e6)) ))\n",
    "\n",
    "    ens = np.random.choice(true_dist, size = (n, ens_size), replace=True) #sample ens from true dist\n",
    "    bw =  scotts_factor(ens_size)*np.std(ens,axis=-1) #scotts rule rule for bw\n",
    "    \n",
    "    GMM = built_bim(true_dist)\n",
    "    print(GMM)\n",
    "    for qq,e in enumerate(ens):\n",
    "\n",
    "        roots = bm.root_finding(e, bw = bw[qq])\n",
    "\n",
    "        Ms= roots[::2]\n",
    "        ms= roots[1::2]\n",
    " \n",
    "        if len(Ms)==2: #condition 1 is two maxima\n",
    "            bin_ens = np.where(e<ms[0],0,1) # create binary ensemble\n",
    "            bin_ens_size = sum(bin_ens)\n",
    "            for ii,mem_cond in enumerate(mem_conditions): # condition 2 is number of members in each mode\n",
    "                if (mem_cond<=bin_ens_size<=(ens_size-mem_cond)):\n",
    "                    bms[jj,ii,qq] = True\n"
   ]
  },
  {
   "cell_type": "code",
   "execution_count": 77,
   "id": "d2d82f06",
   "metadata": {},
   "outputs": [
    {
     "data": {
      "text/plain": [
       "<matplotlib.colorbar.Colorbar at 0x2ada17911930>"
      ]
     },
     "execution_count": 77,
     "metadata": {},
     "output_type": "execute_result"
    },
    {
     "data": {
      "image/png": "[encoded data removed]",
      "text/plain": [
       "<Figure size 432x288 with 2 Axes>"
      ]
     },
     "metadata": {
      "needs_background": "light"
     },
     "output_type": "display_data"
    }
   ],
   "source": [
    "cm = sns.diverging_palette(220, 20, as_cmap=True)\n",
    "cf=plt.contourf(mem_conditions,deltas, bms.mean(axis=-1), extend='max', cmap = cm,\n",
    "                levels=np.arange(0,0.6,0.05))\n",
    "plt.axhline(2., color = 'r')\n",
    "#plt.xlim(10,20)\n",
    "plt.colorbar(cf, label = 'Freq. classified as bimodal')"
   ]
  },
  {
   "cell_type": "markdown",
   "id": "86ae2433",
   "metadata": {},
   "source": [
    "# Dip Testing"
   ]
  },
  {
   "cell_type": "code",
   "execution_count": null,
   "id": "36159068",
   "metadata": {},
   "outputs": [],
   "source": [
    "n = 5000 #number of ensembles to be generated\n",
    "ens_size = 50 #ensemble size\n",
    "\n",
    "deltas = np.arange(0.1, 6, 0.1) #separation of two modes\n",
    "dip_conditions = np.arange(1.01,2.,0.05)#strength of dip required #p(max)/p(min)\n",
    "bms = np.zeros((len(deltas),len(dip_conditions), n))\n",
    "\n",
    "for jj,d in enumerate(tqdm(deltas)):\n",
    "    w=0.5\n",
    "    m1=-d/2.; s1=1\n",
    "    m2= d/2.; s2=1 \n",
    "    \n",
    "    #generate the 'true dist'\n",
    "    true_dist = np.sort(np.append(np.random.normal(m1,s1,int(   w *1e6)),\n",
    "                                  np.random.normal(m2,s2,int((1-w)*1e6)) ))\n",
    "\n",
    "    ens = np.random.choice(true_dist, size = (n, ens_size), replace=True) #sample ens from true dist\n",
    "    bw =  scotts_factor(ens_size)*np.std(ens,axis=-1) #scotts rule rule for bw\n",
    "    #TODO: still find number of roots of 'true' dist\n",
    "    \n",
    "    for qq,e in enumerate(ens):\n",
    "\n",
    "        roots = bm.root_finding(e, bw = bw[qq])\n",
    "\n",
    "        Ms= roots[::2]\n",
    "        ms= roots[1::2]\n",
    " \n",
    "        if len(Ms)==2: #condition 1 is two maxima\n",
    "            bin_ens = np.where(e<ms[0],0,1) # create binary ensemble\n",
    "            bin_ens_size = sum(bin_ens)\n",
    "            for ii,mem_cond in enumerate(mem_conditions): # condition 2 is number of members in each mode\n",
    "                if (mem_cond<=bin_ens_size<=(ens_size-mem_cond)):\n",
    "                    bms[jj,ii,qq] = True\n"
   ]
  },
  {
   "cell_type": "code",
   "execution_count": 22,
   "id": "b09caa14",
   "metadata": {},
   "outputs": [
    {
     "data": {
      "image/png": "[encoded data removed]",
      "text/plain": [
       "<Figure size 432x288 with 1 Axes>"
      ]
     },
     "metadata": {
      "needs_background": "light"
     },
     "output_type": "display_data"
    }
   ],
   "source": [
    "q = np.linspace(true_dist[0]-1,true_dist[-1]+1, 100)\n",
    "kde = stats.gaussian_kde(e)\n",
    "manualkde = [bm.continuous_pdf(x, e, bw) for x in q]\n",
    "plt.plot(q, kde(q))\n",
    "plt.plot(q,manualkde)\n",
    "plt.show()"
   ]
  },
  {
   "cell_type": "code",
   "execution_count": null,
   "id": "6777b4ef",
   "metadata": {},
   "outputs": [],
   "source": []
  },
  {
   "cell_type": "code",
   "execution_count": 19,
   "id": "ea5999df",
   "metadata": {},
   "outputs": [
    {
     "data": {
      "text/plain": [
       "array([ 2.33286103,  0.75106816, -0.16524378, -2.44846098, -2.76169461,\n",
       "        0.43862155, -2.29848133, -1.02367732, -2.09022098,  0.90280847,\n",
       "        0.25412061,  0.98871348, -0.71934961,  1.45681216, -1.10282657,\n",
       "       -0.55534837, -0.01131381, -1.01562533,  0.42838104,  0.28357899,\n",
       "        0.77930061,  0.59377495,  1.05160883, -0.05845846,  2.62816496,\n",
       "        0.42774024,  0.66653694,  2.08273764,  0.8819201 ,  1.95991516,\n",
       "       -0.56750851,  0.26227052,  1.28292173,  0.54088019, -0.86074915,\n",
       "        1.9185104 , -0.06636634,  0.2934119 ,  1.21529363, -2.59800729,\n",
       "       -3.04856639,  0.0238696 ,  2.66986411,  1.40940091,  0.66836193,\n",
       "       -0.57581757,  1.47186436, -1.11193087,  2.61125608, -0.33577862])"
      ]
     },
     "execution_count": 19,
     "metadata": {},
     "output_type": "execute_result"
    }
   ],
   "source": [
    "e"
   ]
  },
  {
   "cell_type": "code",
   "execution_count": null,
   "id": "a05f91c8",
   "metadata": {},
   "outputs": [],
   "source": []
  }
 ],
 "metadata": {
  "kernelspec": {
   "display_name": "Python 3 (ipykernel)",
   "language": "python",
   "name": "python3"
  },
  "language_info": {
   "codemirror_mode": {
    "name": "ipython",
    "version": 3
   },
   "file_extension": ".py",
   "mimetype": "text/x-python",
   "name": "python",
   "nbconvert_exporter": "python",
   "pygments_lexer": "ipython3",
   "version": "3.10.2"
  }
 },
 "nbformat": 4,
 "nbformat_minor": 5
}
