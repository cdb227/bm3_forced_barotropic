{
 "cells": [
  {
   "cell_type": "markdown",
   "id": "7d993cf4",
   "metadata": {},
   "source": [
    "## Synthetic Ensemble Generation\n",
    "\n",
    "This notebook is used to test some capabilities of bm_methods with synthetic ensembles. This will prove useful for setting 'bimodal criteria' and understanding the expected TP/FP rates (as a function of ensemble size) with known distributions"
   ]
  },
  {
   "cell_type": "code",
   "execution_count": 1,
   "id": "16271b60",
   "metadata": {},
   "outputs": [
    {
     "name": "stderr",
     "output_type": "stream",
     "text": [
      "/home/bertossa/miniconda3/envs/jupyter/lib/python3.10/site-packages/scipy/__init__.py:146: UserWarning: A NumPy version >=1.16.5 and <1.23.0 is required for this version of SciPy (detected version 1.24.4\n",
      "  warnings.warn(f\"A NumPy version >={np_minversion} and <{np_maxversion}\"\n"
     ]
    }
   ],
   "source": [
    "# import packages\n",
    "\n",
    "import numpy as np\n",
    "import scipy.stats as stats\n",
    "import matplotlib.pyplot as plt\n",
    "import random\n",
    "from tqdm import tqdm\n",
    "import seaborn as sns\n",
    "from cython_routines import bm_methods as cbm\n",
    "from scipy import integrate, stats, optimize\n",
    "from sklearn.mixture import GaussianMixture\n",
    "\n",
    "\n",
    "def scotts_factor(ens_size):\n",
    "    \"\"\"\n",
    "    by default kde calculates bw using scotts factor:\n",
    "    n** (-1/(d+4))\n",
    "    when n = length of data and d is num of dimension (=1 for us)\n",
    "    \"\"\"\n",
    "    return ens_size**(-1./(1+4))    \n",
    "    "
   ]
  },
  {
   "cell_type": "markdown",
   "id": "7edb9f51",
   "metadata": {},
   "source": [
    "# explore member FP(member requirement,delta) phase space"
   ]
  },
  {
   "cell_type": "code",
   "execution_count": 2,
   "id": "dd2a78db",
   "metadata": {},
   "outputs": [
    {
     "name": "stderr",
     "output_type": "stream",
     "text": [
      "100%|███████████████████████████████████████████| 50/50 [08:40<00:00, 10.40s/it]\n"
     ]
    }
   ],
   "source": [
    "n = 10000 #number of ensembles to be generated\n",
    "ens_size = 200 #ensemble size\n",
    "\n",
    "deltas = np.arange(0., 5, 0.1) #separation of two modes\n",
    "#mem_conditions = range(1,ens_size//2+1,2) #minimum number of members required\n",
    "bms = np.zeros((len(deltas), n))\n",
    "mem = np.zeros((len(deltas), n))\n",
    "\n",
    "truth = np.zeros((len(deltas), 2))\n",
    "\n",
    "for jj,d in enumerate(tqdm(deltas)):\n",
    "    w=0.5\n",
    "    m1=-d/2.; s1=1\n",
    "    m2= d/2.; s2=1\n",
    "    #generate the 'true dist', use GMM model\n",
    "    true_dist = np.sort(np.append(np.random.normal(m1,s1,int(   w *1e6)),\n",
    "                                  np.random.normal(m2,s2,int((1-w)*1e6)) ))\n",
    "\n",
    "    ens = np.random.choice(true_dist, size = (n, ens_size), replace=True) #sample ens from true dist\n",
    "    \n",
    "    for qq,e in enumerate(ens): # detect number of bimodal ensemmbles using random sampling from true dist\n",
    "        bm, mem1,_ = find_bimodality(e)\n",
    "        bms[jj,qq] = bm\n",
    "        mem[jj,qq] = mem1\n"
   ]
  },
  {
   "cell_type": "code",
   "execution_count": 3,
   "id": "f8f99b92",
   "metadata": {},
   "outputs": [],
   "source": [
    "mem_reqs = range(0, ens_size//2+1)\n",
    "\n",
    "freqs = np.zeros((len(mem_reqs), len(deltas)))\n",
    "for mm, mem_req in enumerate(mem_reqs):\n",
    "    mask = ( mem_req <= mem) & (mem<= (ens_size-mem_req))\n",
    "    \n",
    "    # Set bms to False where mem < mem_req\n",
    "    bms_filtered = np.copy(bms)\n",
    "    bms_filtered[~mask] = False\n",
    "    \n",
    "    freqs[mm,:]= np.mean(bms_filtered, axis=-1)"
   ]
  },
  {
   "cell_type": "code",
   "execution_count": 4,
   "id": "1645dab1",
   "metadata": {},
   "outputs": [
    {
     "data": {
      "image/png": "[encoded data removed]",
      "text/plain": [
       "<Figure size 432x288 with 1 Axes>"
      ]
     },
     "metadata": {
      "needs_background": "light"
     },
     "output_type": "display_data"
    }
   ],
   "source": [
    "for m in [0,10,50,75,100]:\n",
    "    plt.plot(deltas,freqs[m,:]*100, label = mem_reqs[m])\n",
    "    \n",
    "#for m in [0,2,5,20,25]:\n",
    "#    plt.plot(deltas,freqs[m,:]*100, label = mem_reqs[m])\n",
    "    \n",
    "plt.yscale('log')\n",
    "plt.legend()\n",
    "plt.ylim(1e0,100)\n",
    "plt.axvline(2.3, linestyle='--', color='k')\n",
    "plt.xlim(0,5)\n",
    "plt.xlabel('Separation between modes (delta)')\n",
    "plt.ylabel('Perc. Classified as Bimodal')\n",
    "plt.title('')\n",
    "plt.show()"
   ]
  },
  {
   "cell_type": "code",
   "execution_count": null,
   "id": "a05f91c8",
   "metadata": {},
   "outputs": [],
   "source": []
  }
 ],
 "metadata": {
  "kernelspec": {
   "display_name": "Python 3 (ipykernel)",
   "language": "python",
   "name": "python3"
  },
  "language_info": {
   "codemirror_mode": {
    "name": "ipython",
    "version": 3
   },
   "file_extension": ".py",
   "mimetype": "text/x-python",
   "name": "python",
   "nbconvert_exporter": "python",
   "pygments_lexer": "ipython3",
   "version": "3.10.2"
  }
 },
 "nbformat": 4,
 "nbformat_minor": 5
}
