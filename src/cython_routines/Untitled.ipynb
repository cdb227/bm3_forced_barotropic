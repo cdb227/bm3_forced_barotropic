{
 "cells": [
  {
   "cell_type": "code",
   "execution_count": 15,
   "id": "3ea0ae3a",
   "metadata": {},
   "outputs": [],
   "source": [
    "import pstats\n",
    "import cProfile\n",
    "import numpy as np\n",
    "import cbm_methods as cbm\n",
    "\n",
    "mean1, mean2 = 1.0, 5.0  # Means of the two normal distributions\n",
    "std_dev1, std_dev2 = 1.0, 1.9  # Standard deviations of the two normal distributions\n",
    "size = 200  # Number of samples\n",
    "\n",
    "# Generate samples from the two normal distributions\n",
    "data1 = np.random.normal(loc=mean1, scale=std_dev1, size=int(size/2))\n",
    "data2 = np.random.normal(loc=mean2, scale=std_dev2, size=int(size/2))\n",
    "\n",
    "# Combine the samples to create a pseudobimodal distribution\n",
    "data = np.concatenate((data1, data2))\n",
    "\n",
    "bw = 0.45730505192732634 * np.std(data)\n",
    "itol = bw\n",
    "mtol = bw/10\n",
    "m, M =np.min(data), np.max(data)"
   ]
  },
  {
   "cell_type": "code",
   "execution_count": 2,
   "id": "292835f8",
   "metadata": {},
   "outputs": [
    {
     "name": "stdout",
     "output_type": "stream",
     "text": [
      "Sat Jun 15 07:58:00 2024    profile_results\n",
      "\n",
      "         241004 function calls (211004 primitive calls) in 1.211 seconds\n",
      "\n",
      "   Ordered by: internal time\n",
      "   List reduced from 14 to 10 due to restriction <10>\n",
      "\n",
      "   ncalls  tottime  percall  cumtime  percall filename:lineno(function)\n",
      "    32000    1.111    0.000    1.117    0.000 cbm_methods.pyx:28(first_deriv_pdf)\n",
      "31000/1000    0.053    0.000    1.207    0.001 cbm_methods.pyx:172(recursive_rootfinding)\n",
      "    32000    0.015    0.000    0.020    0.000 stringsource:345(__cinit__)\n",
      "    32000    0.013    0.000    0.033    0.000 stringsource:657(memoryview_cwrapper)\n",
      "    32000    0.006    0.000    0.006    0.000 stringsource:372(__dealloc__)\n",
      "    32000    0.006    0.000    0.006    0.000 stringsource:298(align_pointer)\n",
      "    32000    0.003    0.000    0.003    0.000 stringsource:663(memoryview_check)\n",
      "        1    0.003    0.003    1.211    1.211 2902803868.py:2(profile_recursive_rootfinding)\n",
      "    16000    0.001    0.000    0.001    0.000 cbm_methods.pyx:63(is_root)\n",
      "     1000    0.001    0.000    1.208    0.001 {built-in method cbm_methods.recursive_rootfinding}\n",
      "\n",
      "\n"
     ]
    },
    {
     "data": {
      "text/plain": [
       "<pstats.Stats at 0x2b3d1dc5a200>"
      ]
     },
     "execution_count": 2,
     "metadata": {},
     "output_type": "execute_result"
    }
   ],
   "source": [
    "\n",
    "\n",
    "# Assume cbm.recursive_rootfinding is your Cython-implemented function\n",
    "def profile_recursive_rootfinding(runs):\n",
    "    for _ in range(runs):\n",
    "        cbm.recursive_rootfinding(m, M, itol,mtol, data, bw)\n",
    "\n",
    "# Number of runs\n",
    "num_runs = 1000\n",
    "\n",
    "# Profile the wrapper function\n",
    "cProfile.run('profile_recursive_rootfinding(num_runs)', filename='profile_results')\n",
    "\n",
    "# Load and print profiling results\n",
    "p = pstats.Stats('profile_results')\n",
    "p.strip_dirs().sort_stats('tottime').print_stats(10)"
   ]
  },
  {
   "cell_type": "code",
   "execution_count": 16,
   "id": "e7d22dc2",
   "metadata": {},
   "outputs": [],
   "source": [
    "n = len(data)\n",
    "std_dev = np.std(data)\n",
    "scotts_factor = np.power(n, -1.0 / 5.0) * std_dev\n",
    "roots = cbm.recursive_rootfinding(m, M, itol/5,mtol, data, scotts_factor)"
   ]
  },
  {
   "cell_type": "code",
   "execution_count": 17,
   "id": "97cf55fa",
   "metadata": {},
   "outputs": [
    {
     "name": "stdout",
     "output_type": "stream",
     "text": [
      "[1.1369178474764847, 3.912662229017478, 5.708732122955768]\n"
     ]
    },
    {
     "data": {
      "image/png": "[encoded data removed]",
      "text/plain": [
       "<Figure size 432x288 with 1 Axes>"
      ]
     },
     "metadata": {
      "needs_background": "light"
     },
     "output_type": "display_data"
    }
   ],
   "source": [
    "from matplotlib import pyplot as plt\n",
    "from scipy.stats import gaussian_kde\n",
    "\n",
    "Ms = roots[::2]\n",
    "[plt.axvline(r) for r in roots]\n",
    "print(roots)\n",
    "#roots=cbm.recursive_rootfinding(data)\n",
    "#print(roots)\n",
    "\n",
    "# Plot the histogram to visualize the distribution\n",
    "plt.hist(data, bins=30, density=True, alpha=0.75)\n",
    "kde = gaussian_kde(data)\n",
    "x_vals = np.linspace(min(data), max(data), 1000)\n",
    "plt.plot(x_vals, kde(x_vals), 'r-', label='KDE')\n",
    "\n",
    "plt.xlabel('Value')\n",
    "plt.ylabel('Density')\n",
    "plt.title('Pseudobimodal Distribution')\n",
    "plt.grid(True)\n",
    "plt.show()"
   ]
  },
  {
   "cell_type": "code",
   "execution_count": null,
   "id": "11cb7534",
   "metadata": {},
   "outputs": [],
   "source": []
  }
 ],
 "metadata": {
  "kernelspec": {
   "display_name": "Python 3 (ipykernel)",
   "language": "python",
   "name": "python3"
  },
  "language_info": {
   "codemirror_mode": {
    "name": "ipython",
    "version": 3
   },
   "file_extension": ".py",
   "mimetype": "text/x-python",
   "name": "python",
   "nbconvert_exporter": "python",
   "pygments_lexer": "ipython3",
   "version": "3.10.2"
  }
 },
 "nbformat": 4,
 "nbformat_minor": 5
}
